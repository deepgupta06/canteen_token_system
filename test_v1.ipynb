{
 "cells": [
  {
   "cell_type": "code",
   "execution_count": 39,
   "id": "9a75c977",
   "metadata": {},
   "outputs": [],
   "source": [
    "import sqlite3"
   ]
  },
  {
   "cell_type": "code",
   "execution_count": 55,
   "id": "f0ff0a6d",
   "metadata": {},
   "outputs": [],
   "source": [
    "conn = sqlite3.connect(\"canteen_new1.db\")"
   ]
  },
  {
   "cell_type": "code",
   "execution_count": 41,
   "id": "bcc60f94",
   "metadata": {},
   "outputs": [],
   "source": [
    "mycursor = conn.cursor()"
   ]
  },
  {
   "cell_type": "code",
   "execution_count": 42,
   "id": "937ca730",
   "metadata": {},
   "outputs": [],
   "source": [
    "q1 = \"\"\"CREATE TABLE empinfo (\n",
    "                                empid int PRIMARY KEY,\n",
    "                                first_name varchar(255), \n",
    "                                last_name varchar(255), \n",
    "                                userid varchar(255),\n",
    "                                password varchar(255),\n",
    "                                usergroup varchar(255))\"\"\"\n",
    "\n",
    "####<Datatype>#####\n",
    "#NULL\n",
    "#INTEGER\n",
    "#REAL\n",
    "#TEXT\n",
    "#BLOB\n",
    "try:\n",
    "    mycursor.execute(q1)\n",
    "    conn.commit()\n",
    "except:\n",
    "    pass"
   ]
  },
  {
   "cell_type": "code",
   "execution_count": 26,
   "id": "e5edb327",
   "metadata": {},
   "outputs": [
    {
     "name": "stdout",
     "output_type": "stream",
     "text": [
      "INSERT INTO empinfo VALUES (4004631, 'Deep', 'Gupta', 'deep.g', 'deep.g', 'admin')\n"
     ]
    }
   ],
   "source": [
    "inserting_value = [(4004631, \"Deep\", \"Gupta\",\"deep.g\",\"deep.g\", \"admin\")]\n",
    "for item in inserting_value:\n",
    "    q3 = \"INSERT INTO empinfo VALUES {}\".format(item)\n",
    "    mycursor.execute(q3)\n",
    "    print(q3)\n",
    "conn.commit()"
   ]
  },
  {
   "cell_type": "code",
   "execution_count": 47,
   "id": "23d8c723",
   "metadata": {},
   "outputs": [],
   "source": [
    "q2 = \"\"\"SELECT * FROM empinfo where first_name=='deep'\"\"\"\n",
    "mycursor.execute(q2)\n",
    "for i in mycursor:\n",
    "    print(i)"
   ]
  },
  {
   "cell_type": "code",
   "execution_count": 48,
   "id": "e51b4afb",
   "metadata": {},
   "outputs": [],
   "source": [
    "q4 = \"DELETE FROM empinfo where first_name=='deep' and last_name=='gupta'\"\n",
    "mycursor.execute(q4)\n",
    "conn.commit()"
   ]
  },
  {
   "cell_type": "code",
   "execution_count": 56,
   "id": "280a3db1",
   "metadata": {},
   "outputs": [],
   "source": [
    "conn.close()"
   ]
  },
  {
   "cell_type": "code",
   "execution_count": 51,
   "id": "14a79482",
   "metadata": {},
   "outputs": [],
   "source": [
    "users = []\n",
    "users.append((1,\"deep\", \"gupta\", \"pass1\", \"Admin\"))\n",
    "users.append((2,\"sayantan\", \"halder\", \"pass2\", \"Super_user\"))"
   ]
  },
  {
   "cell_type": "code",
   "execution_count": 53,
   "id": "615d4103",
   "metadata": {},
   "outputs": [],
   "source": [
    "user = users[0][0]"
   ]
  },
  {
   "cell_type": "code",
   "execution_count": 54,
   "id": "eba652ed",
   "metadata": {},
   "outputs": [
    {
     "data": {
      "text/plain": [
       "1"
      ]
     },
     "execution_count": 54,
     "metadata": {},
     "output_type": "execute_result"
    }
   ],
   "source": [
    "user"
   ]
  },
  {
   "cell_type": "code",
   "execution_count": 58,
   "id": "7003599d",
   "metadata": {},
   "outputs": [
    {
     "name": "stdout",
     "output_type": "stream",
     "text": [
      "(40046322, 'ratul', 'kumar', 'ratul.k', 'ratul.k', 'User')\n",
      "(4004631, 'deep', 'gupta', 'deep.g', 'deep.g', 'Admin')\n",
      "(40046323, 'tannu', 'tannu', 'tannu.t', 'tannu.t', 'User')\n"
     ]
    }
   ],
   "source": [
    "conn = sqlite3.connect(\"canteen_new1.db\")\n",
    "mycursor = conn.cursor()\n",
    "q2 = \"\"\"SELECT * FROM empinfo\"\"\"\n",
    "mycursor.execute(q2)\n",
    "for i in mycursor:\n",
    "    print(i)\n",
    "conn.close()"
   ]
  },
  {
   "cell_type": "code",
   "execution_count": null,
   "id": "7be15996",
   "metadata": {},
   "outputs": [],
   "source": []
  }
 ],
 "metadata": {
  "kernelspec": {
   "display_name": "Python 3",
   "language": "python",
   "name": "python3"
  },
  "language_info": {
   "codemirror_mode": {
    "name": "ipython",
    "version": 3
   },
   "file_extension": ".py",
   "mimetype": "text/x-python",
   "name": "python",
   "nbconvert_exporter": "python",
   "pygments_lexer": "ipython3",
   "version": "3.8.8"
  }
 },
 "nbformat": 4,
 "nbformat_minor": 5
}
